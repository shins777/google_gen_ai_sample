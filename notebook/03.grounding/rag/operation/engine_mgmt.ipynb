{
 "cells": [
  {
   "cell_type": "markdown",
   "metadata": {},
   "source": [
    "# Vertex AI Search - Search App engine 구성 및 관리\n",
    "이 Notebook은 Vertex AI Search를 관리하기 위한 다양한 API활용에 대해서 설명합니다.\n",
    "이 예제를 통해서 프로그래밍 방식으로 Vertex AI Search를 관리할 수 있으며, 필요에 따라서 타 시스템과의 연동을 통해서 CI/CD를 연계 할 수도 있습니다. \n",
    "\n",
    "여기서 이야기하는 API는 아래 URL을 기준으로 작성되었습니다. \n",
    "*  https://cloud.google.com/python/docs/reference/discoveryengine/0.11.4"
   ]
  },
  {
   "cell_type": "code",
   "execution_count": 32,
   "metadata": {},
   "outputs": [
    {
     "name": "stdout",
     "output_type": "stream",
     "text": [
      "Note: you may need to restart the kernel to use updated packages.\n"
     ]
    }
   ],
   "source": [
    "%pip install --upgrade --quiet google-cloud-discoveryengine"
   ]
  },
  {
   "cell_type": "markdown",
   "metadata": {},
   "source": [
    "### GCP 기본 환경 구성\n",
    "이 예제에서는 Service account를 사용해서 인증을 합니다.\n",
    "다른 방법으로 Oauth를 사용해서 인증하는 방법도 있습니다."
   ]
  },
  {
   "cell_type": "code",
   "execution_count": 33,
   "metadata": {},
   "outputs": [],
   "source": [
    "# Project constant setting.\n",
    "PROJECT_ID=\"ai-hangsik\"\n",
    "REGION=\"global\"\n",
    "\n",
    "# Create a creadential to authenticate an access to the GCP.\n",
    "from google.oauth2 import service_account\n",
    "import google.oauth2.credentials\n",
    "\n",
    "# Location of service account. Use the service account having an IAM including Discovery engine access.\n",
    "SVC_ACCOUNT_FILE = \"/home/admin_/keys/ai-hangsik-71898c80c9a5.json\"\n",
    "\n",
    "credentials = service_account.Credentials.from_service_account_file(\n",
    "    SVC_ACCOUNT_FILE, \n",
    "    scopes=['https://www.googleapis.com/auth/cloud-platform']\n",
    ")\n"
   ]
  },
  {
   "cell_type": "markdown",
   "metadata": {},
   "source": [
    "### Search App Engine 생성\n",
    "\n",
    "Search app을 생성하기 위해서는 Data store 가 이미 생성되어 이어야 합니다. 이미 만들어진 data store를 engine 에 attach 하는 형태로 만들어집니다.  \n",
    "engine을 만들때 SolutionType.SOLUTION_TYPE_SEARCH 을 변경해서 Search 스타일을 구성할 수 있습니다."
   ]
  },
  {
   "cell_type": "code",
   "execution_count": 34,
   "metadata": {},
   "outputs": [],
   "source": [
    "import argparse\n",
    "from google.cloud.discoveryengine_v1 import (\n",
    "    CreateDataStoreRequest,\n",
    "    CreateEngineRequest,\n",
    "    DataStore,\n",
    "    DataStoreServiceClient,\n",
    "    SolutionType,\n",
    "    Engine,\n",
    "    EngineServiceClient,\n",
    ")\n",
    "\n",
    "def create_engine(project_id:str, \n",
    "                  region:str,\n",
    "                  engine_id:str, \n",
    "                  data_store_id: str):\n",
    "\n",
    "    # API : https://cloud.google.com/python/docs/reference/discoveryengine/latest/google.cloud.discoveryengine_v1alpha.services.engine_service.EngineServiceClient\n",
    "    engine_client = EngineServiceClient(credentials= credentials)\n",
    "\n",
    "    parent = f\"projects/{project_id}/locations/{region}\"\n",
    "\n",
    "    engine = Engine(\n",
    "        # API : https://cloud.google.com/python/docs/reference/discoveryengine/0.11.4/google.cloud.discoveryengine_v1alpha.types.Engine\n",
    "        display_name=engine_id,\n",
    "        data_store_ids=[data_store_id],\n",
    "        solution_type = SolutionType.SOLUTION_TYPE_SEARCH,\n",
    "    )\n",
    "\n",
    "    request = CreateEngineRequest(\n",
    "        # API : https://cloud.google.com/python/docs/reference/discoveryengine/0.11.4/google.cloud.discoveryengine_v1alpha.types.CreateEngineRequest\n",
    "        parent=parent, \n",
    "        engine=engine, \n",
    "        engine_id=engine_id)\n",
    "        \n",
    "    print(f\"Request: {request}\")\n",
    "\n",
    "    operation = engine_client.create_engine(\n",
    "        # API : https://cloud.google.com/python/docs/reference/discoveryengine/0.11.4/google.cloud.discoveryengine_v1alpha.services.engine_service.EngineServiceClient#google_cloud_discoveryengine_v1alpha_services_engine_service_EngineServiceClient_create_engine\n",
    "        request=request)\n",
    "\n",
    "    print(f\"Operation: {operation}\")\n",
    "\n",
    "    response = operation.result()\n",
    "    print(f\"Engine: {response}\")\n",
    "\n"
   ]
  },
  {
   "cell_type": "code",
   "execution_count": 35,
   "metadata": {},
   "outputs": [
    {
     "name": "stdout",
     "output_type": "stream",
     "text": [
      "Request: parent: \"projects/ai-hangsik/locations/global\"\n",
      "engine {\n",
      "  display_name: \"data_engine_001\"\n",
      "  data_store_ids: \"data_store_001\"\n",
      "  solution_type: SOLUTION_TYPE_SEARCH\n",
      "}\n",
      "engine_id: \"data_engine_001\"\n",
      "\n",
      "Operation: <google.api_core.operation.Operation object at 0x78363c16ba90>\n",
      "Engine: search_engine_config {\n",
      "  search_tier: SEARCH_TIER_STANDARD\n",
      "}\n",
      "name: \"projects/721521243942/locations/global/collections/default_collection/engines/data_engine_001\"\n",
      "display_name: \"data_engine_001\"\n",
      "data_store_ids: \"data_store_001\"\n",
      "solution_type: SOLUTION_TYPE_SEARCH\n",
      "\n"
     ]
    }
   ],
   "source": [
    "ENGINE_ID = \"data_engine_001\"\n",
    "DATA_STORE_ID = \"data_store_001\"\n",
    "\n",
    "create_engine(\n",
    "    PROJECT_ID,\n",
    "    REGION,\n",
    "    ENGINE_ID, \n",
    "    DATA_STORE_ID )"
   ]
  },
  {
   "cell_type": "code",
   "execution_count": 36,
   "metadata": {},
   "outputs": [],
   "source": [
    "from typing import Any\n",
    "\n",
    "def list_engines(  project_id: str, \n",
    "                   location: str, ) -> Any:\n",
    "\n",
    "    from typing import Optional\n",
    "    from google.api_core.client_options import ClientOptions\n",
    "    from google.cloud import discoveryengine\n",
    "\n",
    "    parent = f\"projects/{project_id}/locations/{location}\"\n",
    "\n",
    "    #  For more information, refer to:\n",
    "    # https://cloud.google.com/generative-ai-app-builder/docs/locations#specify_a_multi-region_for_your_data_store\n",
    "    client_options = (\n",
    "        ClientOptions(api_endpoint=f\"{location}-discoveryengine.googleapis.com\")\n",
    "        if location != \"global\"\n",
    "        else None\n",
    "    )\n",
    "\n",
    "    # Create a client\n",
    "    # API : https://cloud.google.com/python/docs/reference/discoveryengine/latest/google.cloud.discoveryengine_v1alpha.services.engine_service.EngineServiceClient#google_cloud_discoveryengine_v1alpha_services_engine_service_EngineServiceClient\n",
    "    client = discoveryengine.EngineServiceClient(client_options=client_options, \n",
    "                                                    credentials=credentials)\n",
    "\n",
    "    response = client.list_engines(parent=parent)\n",
    "\n",
    "    print(f\"Engine lists\")\n",
    "    for result in response:\n",
    "        print(result)"
   ]
  },
  {
   "cell_type": "code",
   "execution_count": null,
   "metadata": {},
   "outputs": [],
   "source": [
    "list_engines(PROJECT_ID,REGION)"
   ]
  },
  {
   "cell_type": "markdown",
   "metadata": {},
   "source": [
    "### More operation regarding engine\n",
    "\n",
    "* Delete engine\n",
    "    * https://cloud.google.com/python/docs/reference/discoveryengine/latest/google.cloud.discoveryengine_v1alpha.services.engine_service.EngineServiceClient#google_cloud_discoveryengine_v1alpha_services_engine_service_EngineServiceClient_delete_engine\n",
    "* get engine\n",
    "    * https://cloud.google.com/python/docs/reference/discoveryengine/latest/google.cloud.discoveryengine_v1alpha.services.engine_service.EngineServiceClient#google_cloud_discoveryengine_v1alpha_services_engine_service_EngineServiceClient_get_engine\n",
    "* pause_engine\n",
    "    * https://cloud.google.com/python/docs/reference/discoveryengine/latest/google.cloud.discoveryengine_v1alpha.services.engine_service.EngineServiceClient#google_cloud_discoveryengine_v1alpha_services_engine_service_EngineServiceClient_pause_engine\n",
    "* resume_engine\n",
    "    * https://cloud.google.com/python/docs/reference/discoveryengine/latest/google.cloud.discoveryengine_v1alpha.services.engine_service.EngineServiceClient#google_cloud_discoveryengine_v1alpha_services_engine_service_EngineServiceClient_resume_engine\n",
    "\n"
   ]
  },
  {
   "cell_type": "code",
   "execution_count": null,
   "metadata": {},
   "outputs": [],
   "source": []
  }
 ],
 "metadata": {
  "kernelspec": {
   "display_name": "Python 3",
   "language": "python",
   "name": "python3"
  },
  "language_info": {
   "codemirror_mode": {
    "name": "ipython",
    "version": 3
   },
   "file_extension": ".py",
   "mimetype": "text/x-python",
   "name": "python",
   "nbconvert_exporter": "python",
   "pygments_lexer": "ipython3",
   "version": "3.10.12"
  }
 },
 "nbformat": 4,
 "nbformat_minor": 2
}
