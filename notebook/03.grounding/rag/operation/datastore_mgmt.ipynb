{
 "cells": [
  {
   "cell_type": "markdown",
   "metadata": {},
   "source": [
    "# Vertex AI Search - Data store 생성 및 document import\n",
    "이 Notebook은 Vertex AI Search를 관리하기 위한 다양한 API활용에 대해서 설명합니다.\n",
    "이 예제를 통해서 프로그래밍 방식으로 Vertex AI Search를 관리할 수 있으며, 필요에 따라서 타 시스템과의 연동을 통해서 CI/CD를 연계 할 수도 있습니다. \n",
    "\n",
    "여기서 이야기하는 API는 아래 URL을 기준으로 작성되었습니다. \n",
    "*  https://cloud.google.com/python/docs/reference/discoveryengine/0.11.4\n"
   ]
  },
  {
   "cell_type": "markdown",
   "metadata": {},
   "source": [
    "### Vertex AI Search package 설치 \n",
    "Vertex AI Search package는 GCP 내부적으로 discoveryengine을 사용하고 있습니다."
   ]
  },
  {
   "cell_type": "code",
   "execution_count": 1,
   "metadata": {},
   "outputs": [
    {
     "name": "stdout",
     "output_type": "stream",
     "text": [
      "Note: you may need to restart the kernel to use updated packages.\n"
     ]
    }
   ],
   "source": [
    "%pip install --upgrade --quiet google-cloud-discoveryengine"
   ]
  },
  {
   "cell_type": "markdown",
   "metadata": {},
   "source": [
    "### 기본 GCP 환경 설정 "
   ]
  },
  {
   "cell_type": "code",
   "execution_count": 2,
   "metadata": {},
   "outputs": [],
   "source": [
    "# Project constant setting.\n",
    "PROJECT_ID=\"ai-hangsik\"\n",
    "REGION=\"global\"\n",
    "\n",
    "# Create a creadential to authenticate an access to the GCP.\n",
    "from google.oauth2 import service_account\n",
    "import google.oauth2.credentials\n",
    "\n",
    "# Location of service account. Use the service account having an IAM including Discovery engine access.\n",
    "SVC_ACCOUNT_FILE = \"/home/admin_/keys/ai-hangsik-71898c80c9a5.json\"\n",
    "\n",
    "credentials = service_account.Credentials.from_service_account_file(\n",
    "    SVC_ACCOUNT_FILE, \n",
    "    scopes=['https://www.googleapis.com/auth/cloud-platform']\n",
    ")\n"
   ]
  },
  {
   "cell_type": "markdown",
   "metadata": {},
   "source": [
    "### Datastore 생성\n",
    "Data store를 만들고 content 를 추가하는 방법.\n",
    "1. Data store 생성, data store id 가 필요.\n",
    "2. 생성된 Data store에 검색대상의 contents 추가. \n",
    "\n",
    "* Data store 생성\n",
    "    * https://cloud.google.com/generative-ai-app-builder/docs/reference/rpc/google.cloud.discoveryengine.v1#datastore\n",
    "\n"
   ]
  },
  {
   "cell_type": "code",
   "execution_count": 3,
   "metadata": {},
   "outputs": [],
   "source": [
    "# Import classes.\n",
    "from google.cloud.discoveryengine_v1 import (\n",
    "    CreateDataStoreRequest,\n",
    "    CreateEngineRequest,\n",
    "    DataStore,\n",
    "    DataStoreServiceClient,\n",
    "    Engine,\n",
    "    EngineServiceClient,\n",
    "    IndustryVertical,\n",
    "    SolutionType\n",
    ")\n",
    "\n",
    "def create_data_store(project_id:str, \n",
    "                      region:str, \n",
    "                      data_store_id:str):\n",
    "\n",
    "    # Set the constant with PROJECT informatin.\n",
    "    parent = f\"projects/{project_id}/locations/{region}\"\n",
    "\n",
    "    # API : https://cloud.google.com/python/docs/reference/discoveryengine/0.11.4/google.cloud.discoveryengine_v1alpha.services.data_store_service.DataStoreServiceClient\n",
    "    datastore_client = DataStoreServiceClient(credentials=credentials ) \n",
    "\n",
    "    # Create datastore first, then add the documents to the store. \n",
    "    data_store = DataStore( \n",
    "        # API: https://cloud.google.com/generative-ai-app-builder/docs/reference/rpc/google.cloud.discoveryengine.v1#datastore\n",
    "        display_name = data_store_id,\n",
    "        industry_vertical = IndustryVertical.GENERIC,\n",
    "        solution_types = [SolutionType.SOLUTION_TYPE_SEARCH],\n",
    "        content_config = DataStore.ContentConfig.CONTENT_REQUIRED,\n",
    "    )\n",
    "\n",
    "    request = CreateDataStoreRequest(\n",
    "        # API : https://cloud.google.com/generative-ai-app-builder/docs/reference/rpc/google.cloud.discoveryengine.v1#createdatastorerequest\n",
    "        parent=parent, \n",
    "        data_store=data_store, \n",
    "        data_store_id=data_store_id\n",
    "    )\n",
    "    print(f\"Request: {request}\")\n",
    "\n",
    "    # API : https://cloud.google.com/python/docs/reference/discoveryengine/0.11.4/google.cloud.discoveryengine_v1alpha.services.data_store_service.DataStoreServiceClient#google_cloud_discoveryengine_v1alpha_services_data_store_service_DataStoreServiceClient_create_data_store\n",
    "    operation = datastore_client.create_data_store(request=request)\n",
    "    print(f\"Operation: {operation}\")\n",
    "\n",
    "    response = operation.result()\n",
    "    print(f\"DataStore: {response}\")"
   ]
  },
  {
   "cell_type": "markdown",
   "metadata": {},
   "source": [
    "#### Data store creation"
   ]
  },
  {
   "cell_type": "code",
   "execution_count": 4,
   "metadata": {},
   "outputs": [
    {
     "name": "stdout",
     "output_type": "stream",
     "text": [
      "Request: parent: \"projects/ai-hangsik/locations/global\"\n",
      "data_store {\n",
      "  display_name: \"data_store_001\"\n",
      "  industry_vertical: GENERIC\n",
      "  solution_types: SOLUTION_TYPE_SEARCH\n",
      "  content_config: CONTENT_REQUIRED\n",
      "}\n",
      "data_store_id: \"data_store_001\"\n",
      "\n",
      "Operation: <google.api_core.operation.Operation object at 0x7ee9c583e4a0>\n",
      "DataStore: name: \"projects/721521243942/locations/global/collections/default_collection/dataStores/data_store_001\"\n",
      "display_name: \"data_store_001\"\n",
      "industry_vertical: GENERIC\n",
      "solution_types: SOLUTION_TYPE_SEARCH\n",
      "default_schema_id: \"default_schema\"\n",
      "content_config: CONTENT_REQUIRED\n",
      "\n"
     ]
    }
   ],
   "source": [
    "DATA_STORE_ID = \"data_store_001\"\n",
    "\n",
    "create_data_store(  PROJECT_ID, \n",
    "                    REGION, \n",
    "                    DATA_STORE_ID)"
   ]
  },
  {
   "cell_type": "markdown",
   "metadata": {},
   "source": [
    "### 생성된 Datastore에 Document 추가 \n",
    "* 생성된 Data source에 Unstructured document를 추가하는 로직. \n",
    "    * https://cloud.google.com/generative-ai-app-builder/docs/reference/rpc/google.cloud.discoveryengine.v1#gcssource"
   ]
  },
  {
   "cell_type": "code",
   "execution_count": 11,
   "metadata": {},
   "outputs": [],
   "source": [
    "from typing import Any\n",
    "\n",
    "from typing import Optional\n",
    "from google.api_core.client_options import ClientOptions\n",
    "from google.cloud import discoveryengine\n",
    "\n",
    "def import_documents(\n",
    "    project_id: str,\n",
    "    location: str,\n",
    "    data_store_id: str,\n",
    "    gcs_uri: str ,\n",
    "    mode:str,\n",
    "\n",
    ") -> Any:\n",
    "    \n",
    "    # For more information, refer to:\n",
    "    # https://cloud.google.com/generative-ai-app-builder/docs/locations#specify_a_multi-region_for_your_data_store\n",
    "    client_options = (\n",
    "        ClientOptions(api_endpoint=f\"{location}-discoveryengine.googleapis.com\")\n",
    "        if location != \"global\"\n",
    "        else None\n",
    "    )\n",
    "\n",
    "    # Create a document service client\n",
    "    # API : https://cloud.google.com/python/docs/reference/discoveryengine/0.11.4/google.cloud.discoveryengine_v1.services.document_service.DocumentServiceClient\n",
    "    client = discoveryengine.DocumentServiceClient(client_options=client_options, \n",
    "                                                    credentials=credentials)\n",
    "\n",
    "    # The full resource name of the search engine branch.\n",
    "    # e.g. projects/{project}/locations/{location}/dataStores/{data_store_id}/branches/{branch}    \n",
    "    parent = client.branch_path(\n",
    "        # API : https://cloud.google.com/python/docs/reference/discoveryengine/0.11.4/google.cloud.discoveryengine_v1.services.document_service.DocumentServiceClient#google_cloud_discoveryengine_v1_services_document_service_DocumentServiceClient_branch_path\n",
    "        project=project_id,\n",
    "        location=location,\n",
    "        data_store=data_store_id,\n",
    "        branch=\"default_branch\",\n",
    "    )\n",
    "    \n",
    "    print(f\"Branch Path(parent) : {parent}\")\n",
    "    \n",
    "    if mode == \"FULL\":\n",
    "        reconcilation_mode = discoveryengine.ImportDocumentsRequest.ReconciliationMode.FULL\n",
    "    elif mode == \"INCREMENTAL\":\n",
    "        reconcilation_mode = discoveryengine.ImportDocumentsRequest.ReconciliationMode.INCREMENTAL\n",
    "    else:\n",
    "        print(\"Wrong ReconciliationMode, Select either FULL or INCREMENTAL\")\n",
    "        return \"ReconciliationMode Error\"\n",
    "\n",
    "    if gcs_uri:\n",
    "        request = discoveryengine.ImportDocumentsRequest(\n",
    "            # API : https://cloud.google.com/python/docs/reference/discoveryengine/0.11.4/google.cloud.discoveryengine_v1.types.ImportDocumentsRequest\n",
    "            parent=parent,\n",
    "            gcs_source=discoveryengine.GcsSource(\n",
    "                # API : https://cloud.google.com/python/docs/reference/discoveryengine/0.11.4/google.cloud.discoveryengine_v1.types.GcsSource\n",
    "                    # - document (default): One JSON Document per line. Each document must have a valid Document.id. \n",
    "                    # - content: Unstructured data (e.g. PDF, HTML)\n",
    "                    # - custom: One custom data JSON per row in arbitrary format that conforms to the defined Schema of the data store. This can only be used by Gen App Builder. \n",
    "                    # - csv: A CSV file with header conforming to the defined Schema of the data store\n",
    "                    \n",
    "                input_uris=[gcs_uri], data_schema=\"content\" # Set Content because dealing with PDF files in this example.\n",
    "\n",
    "            ),\n",
    "\n",
    "            # API : https://cloud.google.com/python/docs/reference/discoveryengine/0.11.4/google.cloud.discoveryengine_v1.types.ImportDocumentsRequest.ReconciliationMode\n",
    "            # Options: `FULL`, `INCREMENTAL`\n",
    "            # Defaults to INCREMENTAL. INCREMENTAL (1): Inserts new documents or updates existing documents. FULL (2): Calculates diff and replaces the entire document dataset. Existing documents may be deleted if they are not present in the source location.            \n",
    "            \n",
    "            reconciliation_mode = reconcilation_mode,\n",
    "        )\n",
    "    else:\n",
    "        print(\"Add the GCS URI to add contents\")\n",
    "\n",
    "    # Make the request\n",
    "    #  API : https://cloud.google.com/python/docs/reference/discoveryengine/0.11.4/google.cloud.discoveryengine_v1.services.document_service.DocumentServiceClient#google_cloud_discoveryengine_v1_services_document_service_DocumentServiceClient_import_documents\n",
    "    operation = client.import_documents(request=request)\n",
    "\n",
    "    print(f\"Waiting for operation to complete: {operation.operation.name}\")\n",
    "    response = operation.result()\n",
    "\n",
    "    # Once the operation is complete,\n",
    "    # get information from operation metadata\n",
    "    metadata = discoveryengine.ImportDocumentsMetadata(operation.metadata)\n",
    "\n",
    "    # Handle the response\n",
    "    print(response)\n",
    "    print(metadata)\n",
    "\n",
    "    return operation.operation.name"
   ]
  },
  {
   "cell_type": "markdown",
   "metadata": {},
   "source": [
    "#### First import the documents\n",
    "Mode를 Full 로해서 pdf 문서를 import 수행."
   ]
  },
  {
   "cell_type": "code",
   "execution_count": 12,
   "metadata": {},
   "outputs": [
    {
     "name": "stdout",
     "output_type": "stream",
     "text": [
      "Branch Path(parent) : projects/ai-hangsik/locations/global/dataStores/data_store_001/branches/default_branch\n",
      "Waiting for operation to complete: projects/721521243942/locations/global/collections/default_collection/dataStores/data_store_001/branches/0/operations/import-documents-511352932366387857\n",
      "error_config {\n",
      "  gcs_prefix: \"gs://721521243942_us_import_content/errors511352932366389080\"\n",
      "}\n",
      "\n",
      "create_time {\n",
      "  seconds: 1714453797\n",
      "  nanos: 36626000\n",
      "}\n",
      "update_time {\n",
      "  seconds: 1714453837\n",
      "  nanos: 381635000\n",
      "}\n",
      "success_count: 3\n",
      "total_count: 3\n",
      "\n",
      "projects/721521243942/locations/global/collections/default_collection/dataStores/data_store_001/branches/0/operations/import-documents-511352932366387857\n"
     ]
    }
   ],
   "source": [
    "GCS_URI = \"gs://it_laws_kr/law_pdf/*.pdf\"\n",
    "mode = \"FULL\"\n",
    "\n",
    "outcome =  import_documents(\n",
    "    PROJECT_ID,\n",
    "    REGION,\n",
    "    DATA_STORE_ID,\n",
    "    GCS_URI,\n",
    "    mode) \n",
    "\n",
    "print(outcome)    "
   ]
  },
  {
   "cell_type": "markdown",
   "metadata": {},
   "source": [
    "### 추가적인 document import 처리 "
   ]
  },
  {
   "cell_type": "code",
   "execution_count": 15,
   "metadata": {},
   "outputs": [
    {
     "name": "stdout",
     "output_type": "stream",
     "text": [
      "Branch Path(parent) : projects/ai-hangsik/locations/global/dataStores/data_store_001/branches/default_branch\n",
      "Waiting for operation to complete: projects/721521243942/locations/global/collections/default_collection/dataStores/data_store_001/branches/0/operations/import-documents-13159653126884559980\n",
      "error_config {\n",
      "  gcs_prefix: \"gs://721521243942_asia_northeast3_import_content/errors13159653126884558481\"\n",
      "}\n",
      "\n",
      "create_time {\n",
      "  seconds: 1714453869\n",
      "  nanos: 472221000\n",
      "}\n",
      "update_time {\n",
      "  seconds: 1714453965\n",
      "  nanos: 195207000\n",
      "}\n",
      "success_count: 2\n",
      "total_count: 2\n",
      "\n",
      "projects/721521243942/locations/global/collections/default_collection/dataStores/data_store_001/branches/0/operations/import-documents-13159653126884559980\n"
     ]
    }
   ],
   "source": [
    "GCS_URI = \"gs://daou_office_manual/manual_org/*.pdf\"\n",
    "mode = \"INCREMENTAL\"\n",
    "\n",
    "\n",
    "outcome =  import_documents(\n",
    "    PROJECT_ID,\n",
    "    REGION,\n",
    "    DATA_STORE_ID,\n",
    "    GCS_URI,\n",
    "    mode) \n",
    "\n",
    "print(outcome) "
   ]
  },
  {
   "cell_type": "markdown",
   "metadata": {},
   "source": [
    "### Data Store 에 저장된 문서정보 확인\n",
    "특정 Data store 내에 저장된 문서정보 확인하는 기능.  \n",
    "좀더 다양한 DocumentServiceClient를 활용한 Data store 관리를 하려면 아래 API내의 함수를 사용해보세요.\n",
    "* https://cloud.google.com/python/docs/reference/discoveryengine/latest/google.cloud.discoveryengine_v1.services.document_service.DocumentServiceClient\n"
   ]
  },
  {
   "cell_type": "code",
   "execution_count": 13,
   "metadata": {},
   "outputs": [],
   "source": [
    "from typing import Any\n",
    "\n",
    "def list_documents(  project_id: str, \n",
    "                            location: str, \n",
    "                            data_store_id: str) -> Any:\n",
    "\n",
    "    from typing import Optional\n",
    "    from google.api_core.client_options import ClientOptions\n",
    "    from google.cloud import discoveryengine\n",
    "\n",
    "    #  For more information, refer to:\n",
    "    # https://cloud.google.com/generative-ai-app-builder/docs/locations#specify_a_multi-region_for_your_data_store\n",
    "    client_options = (\n",
    "        ClientOptions(api_endpoint=f\"{location}-discoveryengine.googleapis.com\")\n",
    "        if location != \"global\"\n",
    "        else None\n",
    "    )\n",
    "\n",
    "    # Create a client\n",
    "    client = discoveryengine.DocumentServiceClient(client_options=client_options, \n",
    "                                                    credentials=credentials)\n",
    "\n",
    "    # The full resource name of the search engine branch.\n",
    "    # e.g. projects/{project}/locations/{location}/dataStores/{data_store_id}/branches/{branch}\n",
    "    parent = client.branch_path(\n",
    "        project=project_id,\n",
    "        location=location,\n",
    "        data_store=data_store_id,\n",
    "        branch=\"default_branch\",\n",
    "    )\n",
    "\n",
    "    response = client.list_documents(parent=parent)\n",
    "\n",
    "    print(f\"Documents in {data_store_id}:\")\n",
    "    for result in response:\n",
    "        print(result)"
   ]
  },
  {
   "cell_type": "code",
   "execution_count": null,
   "metadata": {},
   "outputs": [],
   "source": [
    "DATA_STORE_ID = \"data_store_001\"\n",
    "\n",
    "list_documents( PROJECT_ID, \n",
    "                       REGION, \n",
    "                       DATA_STORE_ID)"
   ]
  },
  {
   "cell_type": "code",
   "execution_count": null,
   "metadata": {},
   "outputs": [],
   "source": []
  },
  {
   "cell_type": "markdown",
   "metadata": {},
   "source": [
    "### More operation example for Datastore management. \n",
    "\n",
    "* create a document\n",
    "    * https://cloud.google.com/python/docs/reference/discoveryengine/latest/google.cloud.discoveryengine_v1.services.document_service.DocumentServiceClient#google_cloud_discoveryengine_v1_services_document_service_DocumentServiceClient_create_document\n",
    "\n",
    "* delete a document\n",
    "    * https://cloud.google.com/python/docs/reference/discoveryengine/latest/google.cloud.discoveryengine_v1.services.document_service.DocumentServiceClient#google_cloud_discoveryengine_v1_services_document_service_DocumentServiceClient_delete_document\n",
    "\n",
    "* purge documents\n",
    "    * https://cloud.google.com/python/docs/reference/discoveryengine/latest/google.cloud.discoveryengine_v1.services.document_service.DocumentServiceClient#google_cloud_discoveryengine_v1_services_document_service_DocumentServiceClient_purge_documents\n",
    "\n",
    "* update documents\n",
    "    * https://cloud.google.com/python/docs/reference/discoveryengine/latest/google.cloud.discoveryengine_v1.services.document_service.DocumentServiceClient#google_cloud_discoveryengine_v1_services_document_service_DocumentServiceClient_update_document\n",
    "\n",
    "* more API \n",
    "    * https://cloud.google.com/python/docs/reference/discoveryengine/latest/google.cloud.discoveryengine_v1.services.document_service.DocumentServiceClient#google_cloud_discoveryengine_v1_services_document_service_DocumentServiceClient\n",
    "    "
   ]
  },
  {
   "cell_type": "markdown",
   "metadata": {},
   "source": []
  }
 ],
 "metadata": {
  "kernelspec": {
   "display_name": "Python 3",
   "language": "python",
   "name": "python3"
  },
  "language_info": {
   "codemirror_mode": {
    "name": "ipython",
    "version": 3
   },
   "file_extension": ".py",
   "mimetype": "text/x-python",
   "name": "python",
   "nbconvert_exporter": "python",
   "pygments_lexer": "ipython3",
   "version": "3.10.12"
  }
 },
 "nbformat": 4,
 "nbformat_minor": 2
}
